{
 "cells": [
  {
   "cell_type": "code",
   "execution_count": 1,
   "metadata": {},
   "outputs": [],
   "source": [
    "from emoinvest.stock_data_importer.stock_import import get_single_stock"
   ]
  },
  {
   "cell_type": "code",
   "execution_count": 2,
   "metadata": {},
   "outputs": [],
   "source": [
    "df = get_single_stock('googl', '2018-01-01', '2018-01-05')"
   ]
  },
  {
   "cell_type": "code",
   "execution_count": 3,
   "metadata": {},
   "outputs": [
    {
     "data": {
      "text/html": [
       "<div>\n",
       "<style>\n",
       "    .dataframe thead tr:only-child th {\n",
       "        text-align: right;\n",
       "    }\n",
       "\n",
       "    .dataframe thead th {\n",
       "        text-align: left;\n",
       "    }\n",
       "\n",
       "    .dataframe tbody tr th {\n",
       "        vertical-align: top;\n",
       "    }\n",
       "</style>\n",
       "<table border=\"1\" class=\"dataframe\">\n",
       "  <thead>\n",
       "    <tr style=\"text-align: right;\">\n",
       "      <th></th>\n",
       "      <th>high</th>\n",
       "      <th>low</th>\n",
       "      <th>open</th>\n",
       "      <th>close</th>\n",
       "      <th>volume</th>\n",
       "      <th>adj_close</th>\n",
       "      <th>ticker_symbol</th>\n",
       "    </tr>\n",
       "    <tr>\n",
       "      <th>Date</th>\n",
       "      <th></th>\n",
       "      <th></th>\n",
       "      <th></th>\n",
       "      <th></th>\n",
       "      <th></th>\n",
       "      <th></th>\n",
       "      <th></th>\n",
       "    </tr>\n",
       "  </thead>\n",
       "  <tbody>\n",
       "    <tr>\n",
       "      <th>2018-01-02</th>\n",
       "      <td>1075.979980</td>\n",
       "      <td>1053.020020</td>\n",
       "      <td>1053.020020</td>\n",
       "      <td>1073.209961</td>\n",
       "      <td>1588300</td>\n",
       "      <td>1073.209961</td>\n",
       "      <td>googl</td>\n",
       "    </tr>\n",
       "    <tr>\n",
       "      <th>2018-01-03</th>\n",
       "      <td>1096.099976</td>\n",
       "      <td>1073.430054</td>\n",
       "      <td>1073.930054</td>\n",
       "      <td>1091.520020</td>\n",
       "      <td>1565900</td>\n",
       "      <td>1091.520020</td>\n",
       "      <td>googl</td>\n",
       "    </tr>\n",
       "    <tr>\n",
       "      <th>2018-01-04</th>\n",
       "      <td>1104.079956</td>\n",
       "      <td>1094.260010</td>\n",
       "      <td>1097.089966</td>\n",
       "      <td>1095.760010</td>\n",
       "      <td>1302600</td>\n",
       "      <td>1095.760010</td>\n",
       "      <td>googl</td>\n",
       "    </tr>\n",
       "    <tr>\n",
       "      <th>2018-01-05</th>\n",
       "      <td>1113.579956</td>\n",
       "      <td>1101.800049</td>\n",
       "      <td>1103.449951</td>\n",
       "      <td>1110.290039</td>\n",
       "      <td>1512500</td>\n",
       "      <td>1110.290039</td>\n",
       "      <td>googl</td>\n",
       "    </tr>\n",
       "  </tbody>\n",
       "</table>\n",
       "</div>"
      ],
      "text/plain": [
       "                   high          low         open        close   volume  \\\n",
       "Date                                                                      \n",
       "2018-01-02  1075.979980  1053.020020  1053.020020  1073.209961  1588300   \n",
       "2018-01-03  1096.099976  1073.430054  1073.930054  1091.520020  1565900   \n",
       "2018-01-04  1104.079956  1094.260010  1097.089966  1095.760010  1302600   \n",
       "2018-01-05  1113.579956  1101.800049  1103.449951  1110.290039  1512500   \n",
       "\n",
       "              adj_close ticker_symbol  \n",
       "Date                                   \n",
       "2018-01-02  1073.209961         googl  \n",
       "2018-01-03  1091.520020         googl  \n",
       "2018-01-04  1095.760010         googl  \n",
       "2018-01-05  1110.290039         googl  "
      ]
     },
     "execution_count": 3,
     "metadata": {},
     "output_type": "execute_result"
    }
   ],
   "source": [
    "df.head()"
   ]
  },
  {
   "cell_type": "code",
   "execution_count": null,
   "metadata": {},
   "outputs": [],
   "source": []
  }
 ],
 "metadata": {
  "kernelspec": {
   "display_name": "Emoinvest",
   "language": "python",
   "name": "emoinvest"
  },
  "language_info": {
   "codemirror_mode": {
    "name": "ipython",
    "version": 3
   },
   "file_extension": ".py",
   "mimetype": "text/x-python",
   "name": "python",
   "nbconvert_exporter": "python",
   "pygments_lexer": "ipython3",
   "version": "3.5.2"
  }
 },
 "nbformat": 4,
 "nbformat_minor": 2
}
