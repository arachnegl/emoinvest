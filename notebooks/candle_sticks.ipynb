{
 "cells": [
  {
   "cell_type": "code",
   "execution_count": 38,
   "metadata": {},
   "outputs": [
    {
     "name": "stdout",
     "output_type": "stream",
     "text": [
      "height has been deprecated.\n",
      "\n"
     ]
    },
    {
     "data": {
      "text/html": [
       "<style>.container { width:90% !important; }</style>"
      ],
      "text/plain": [
       "<IPython.core.display.HTML object>"
      ]
     },
     "metadata": {},
     "output_type": "display_data"
    }
   ],
   "source": [
    "from emoinvest.stock_data_importer.stock_import import get_single_stock\n",
    "pd.set_option('display.height', 1000)\n",
    "pd.set_option('display.max_rows', 500)\n",
    "pd.set_option('display.max_columns', 500)\n",
    "pd.set_option('display.width', 1000)\n",
    "pd.set_option('display.float_format', lambda x: '%.3f' % x)\n",
    "np.set_printoptions(precision=2)\n",
    "from IPython.core.display import display, HTML\n",
    "display(HTML(\"<style>.container { width:90% !important; }</style>\"))\n",
    "import numpy as np\n",
    "import pandas as pd\n",
    "import matplotlib.pyplot as plt\n",
    "%matplotlib inline\n",
    "from mpl_finance import candlestick_ohlc\n",
    "from matplotlib.dates import DateFormatter, date2num, WeekdayLocator, DayLocator, MONDAY"
   ]
  },
  {
   "cell_type": "code",
   "execution_count": 45,
   "metadata": {},
   "outputs": [
    {
     "data": {
      "text/html": [
       "<div>\n",
       "<style>\n",
       "    .dataframe thead tr:only-child th {\n",
       "        text-align: right;\n",
       "    }\n",
       "\n",
       "    .dataframe thead th {\n",
       "        text-align: left;\n",
       "    }\n",
       "\n",
       "    .dataframe tbody tr th {\n",
       "        vertical-align: top;\n",
       "    }\n",
       "</style>\n",
       "<table border=\"1\" class=\"dataframe\">\n",
       "  <thead>\n",
       "    <tr style=\"text-align: right;\">\n",
       "      <th></th>\n",
       "      <th>high</th>\n",
       "      <th>low</th>\n",
       "      <th>open</th>\n",
       "      <th>close</th>\n",
       "      <th>volume</th>\n",
       "      <th>adj_close</th>\n",
       "      <th>ticker_symbol</th>\n",
       "    </tr>\n",
       "    <tr>\n",
       "      <th>Date</th>\n",
       "      <th></th>\n",
       "      <th></th>\n",
       "      <th></th>\n",
       "      <th></th>\n",
       "      <th></th>\n",
       "      <th></th>\n",
       "      <th></th>\n",
       "    </tr>\n",
       "  </thead>\n",
       "  <tbody>\n",
       "    <tr>\n",
       "      <th>2018-08-01</th>\n",
       "      <td>201.760</td>\n",
       "      <td>197.310</td>\n",
       "      <td>199.130</td>\n",
       "      <td>201.500</td>\n",
       "      <td>67935700.000</td>\n",
       "      <td>200.796</td>\n",
       "      <td>AAPL</td>\n",
       "    </tr>\n",
       "    <tr>\n",
       "      <th>2018-08-02</th>\n",
       "      <td>208.380</td>\n",
       "      <td>200.350</td>\n",
       "      <td>200.580</td>\n",
       "      <td>207.390</td>\n",
       "      <td>62404000.000</td>\n",
       "      <td>206.665</td>\n",
       "      <td>AAPL</td>\n",
       "    </tr>\n",
       "    <tr>\n",
       "      <th>2018-08-03</th>\n",
       "      <td>208.740</td>\n",
       "      <td>205.480</td>\n",
       "      <td>207.030</td>\n",
       "      <td>207.990</td>\n",
       "      <td>33447400.000</td>\n",
       "      <td>207.263</td>\n",
       "      <td>AAPL</td>\n",
       "    </tr>\n",
       "    <tr>\n",
       "      <th>2018-08-06</th>\n",
       "      <td>209.250</td>\n",
       "      <td>207.070</td>\n",
       "      <td>208.000</td>\n",
       "      <td>209.070</td>\n",
       "      <td>25425400.000</td>\n",
       "      <td>208.339</td>\n",
       "      <td>AAPL</td>\n",
       "    </tr>\n",
       "    <tr>\n",
       "      <th>2018-08-07</th>\n",
       "      <td>209.500</td>\n",
       "      <td>206.760</td>\n",
       "      <td>209.320</td>\n",
       "      <td>207.110</td>\n",
       "      <td>25587400.000</td>\n",
       "      <td>206.386</td>\n",
       "      <td>AAPL</td>\n",
       "    </tr>\n",
       "  </tbody>\n",
       "</table>\n",
       "</div>"
      ],
      "text/plain": [
       "              high     low    open   close       volume  adj_close ticker_symbol\n",
       "Date                                                                            \n",
       "2018-08-01 201.760 197.310 199.130 201.500 67935700.000    200.796          AAPL\n",
       "2018-08-02 208.380 200.350 200.580 207.390 62404000.000    206.665          AAPL\n",
       "2018-08-03 208.740 205.480 207.030 207.990 33447400.000    207.263          AAPL\n",
       "2018-08-06 209.250 207.070 208.000 209.070 25425400.000    208.339          AAPL\n",
       "2018-08-07 209.500 206.760 209.320 207.110 25587400.000    206.386          AAPL"
      ]
     },
     "execution_count": 45,
     "metadata": {},
     "output_type": "execute_result"
    }
   ],
   "source": [
    "df = get_single_stock('AAPL', '2018-08-01', '2018-09-10')\n",
    "df.head()"
   ]
  },
  {
   "cell_type": "code",
   "execution_count": null,
   "metadata": {},
   "outputs": [],
   "source": []
  },
  {
   "cell_type": "code",
   "execution_count": 48,
   "metadata": {},
   "outputs": [
    {
     "data": {
      "image/png": "[encoded data removed]",
      "text/plain": [
       "<Figure size 432x288 with 1 Axes>"
      ]
     },
     "metadata": {},
     "output_type": "display_data"
    }
   ],
   "source": [
    "fig, ax = plt.subplots()\n",
    "fig.subplots_adjust(bottom=0.2)\n",
    "\n",
    "df['Date'] = df.index\n",
    "df['date_ax'] = df['Date'].apply(lambda date: date2num(date))\n",
    "df_values = [tuple(vals) for vals in df[['date_ax', 'open', 'high', 'low', 'close']].values]\n",
    "\n",
    "candlestick_ohlc(ax, df_values, width=0.6, colorup='g',colordown='r');"
   ]
  },
  {
   "cell_type": "code",
   "execution_count": 42,
   "metadata": {},
   "outputs": [
    {
     "ename": "NameError",
     "evalue": "name 'ford' is not defined",
     "output_type": "error",
     "traceback": [
      "\u001b[0;31m---------------------------------------------------------------------------\u001b[0m",
      "\u001b[0;31mNameError\u001b[0m                                 Traceback (most recent call last)",
      "\u001b[0;32m<ipython-input-42-dfe141788c7d>\u001b[0m in \u001b[0;36m<module>\u001b[0;34m()\u001b[0m\n\u001b[1;32m      1\u001b[0m \u001b[0;31m# Rest the index to get a column of January Dates\u001b[0m\u001b[0;34m\u001b[0m\u001b[0;34m\u001b[0m\u001b[0m\n\u001b[0;32m----> 2\u001b[0;31m \u001b[0mford_reset\u001b[0m \u001b[0;34m=\u001b[0m \u001b[0mford\u001b[0m\u001b[0;34m.\u001b[0m\u001b[0mloc\u001b[0m\u001b[0;34m[\u001b[0m\u001b[0;34m'2012-01'\u001b[0m\u001b[0;34m:\u001b[0m\u001b[0;34m'2012-01'\u001b[0m\u001b[0;34m]\u001b[0m\u001b[0;34m.\u001b[0m\u001b[0mreset_index\u001b[0m\u001b[0;34m(\u001b[0m\u001b[0;34m)\u001b[0m\u001b[0;34m\u001b[0m\u001b[0m\n\u001b[0m\u001b[1;32m      3\u001b[0m \u001b[0;34m\u001b[0m\u001b[0m\n\u001b[1;32m      4\u001b[0m \u001b[0;31m# Create a new column of numerical \"date\" values for matplotlib to use\u001b[0m\u001b[0;34m\u001b[0m\u001b[0;34m\u001b[0m\u001b[0m\n\u001b[1;32m      5\u001b[0m \u001b[0mford_reset\u001b[0m\u001b[0;34m[\u001b[0m\u001b[0;34m'date_ax'\u001b[0m\u001b[0;34m]\u001b[0m \u001b[0;34m=\u001b[0m \u001b[0mford_reset\u001b[0m\u001b[0;34m[\u001b[0m\u001b[0;34m'Date'\u001b[0m\u001b[0;34m]\u001b[0m\u001b[0;34m.\u001b[0m\u001b[0mapply\u001b[0m\u001b[0;34m(\u001b[0m\u001b[0;32mlambda\u001b[0m \u001b[0mdate\u001b[0m\u001b[0;34m:\u001b[0m \u001b[0mdate2num\u001b[0m\u001b[0;34m(\u001b[0m\u001b[0mdate\u001b[0m\u001b[0;34m)\u001b[0m\u001b[0;34m)\u001b[0m\u001b[0;34m\u001b[0m\u001b[0m\n",
      "\u001b[0;31mNameError\u001b[0m: name 'ford' is not defined"
     ]
    }
   ],
   "source": [
    "# Rest the index to get a column of January Dates\n",
    "ford_reset = ford.loc['2012-01':'2012-01'].reset_index()\n",
    "\n",
    "# Create a new column of numerical \"date\" values for matplotlib to use\n",
    "ford_reset['date_ax'] = ford_reset['Date'].apply(lambda date: date2num(date))\n",
    "ford_values = [tuple(vals) for vals in ford_reset[['date_ax', 'Open', 'High', 'Low', 'Close']].values]\n",
    "\n",
    "mondays = WeekdayLocator(MONDAY)        # major ticks on the mondays\n",
    "alldays = DayLocator()              # minor ticks on the days\n",
    "weekFormatter = DateFormatter('%b %d')  # e.g., Jan 12\n",
    "dayFormatter = DateFormatter('%d')      # e.g., 12\n",
    "\n",
    "#Plot it\n",
    "fig, ax = plt.subplots()\n",
    "fig.subplots_adjust(bottom=0.2)\n",
    "ax.xaxis.set_major_locator(mondays)\n",
    "ax.xaxis.set_minor_locator(alldays)\n",
    "ax.xaxis.set_major_formatter(weekFormatter)\n",
    "\n",
    "candlestick_ohlc(ax, ford_values, width=0.6, colorup='g',colordown='r');"
   ]
  },
  {
   "cell_type": "code",
   "execution_count": null,
   "metadata": {},
   "outputs": [],
   "source": []
  },
  {
   "cell_type": "code",
   "execution_count": null,
   "metadata": {},
   "outputs": [],
   "source": []
  }
 ],
 "metadata": {
  "kernelspec": {
   "display_name": "Emoinvest",
   "language": "python",
   "name": "emoinvest"
  },
  "language_info": {
   "codemirror_mode": {
    "name": "ipython",
    "version": 3
   },
   "file_extension": ".py",
   "mimetype": "text/x-python",
   "name": "python",
   "nbconvert_exporter": "python",
   "pygments_lexer": "ipython3",
   "version": "3.5.2"
  }
 },
 "nbformat": 4,
 "nbformat_minor": 2
}
